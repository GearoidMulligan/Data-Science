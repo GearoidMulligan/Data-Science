{
 "cells": [
  {
   "cell_type": "markdown",
   "id": "d6ec7c08",
   "metadata": {},
   "source": [
    "# COMP30760 Assignment1 - Task 1\n",
    "# Gearoid Mulligan-19343146"
   ]
  },
  {
   "cell_type": "markdown",
   "id": "a14e963b",
   "metadata": {},
   "source": [
    "In this Assignment I am going to collect data from the last season of various top flight football(soccer) leagues in europe using the Football Data API. The four leagues I will be taking data from is the top divions from the English(PL), French(FL1), Italian(SA), Spanish(PD) leagues respectively."
   ]
  },
  {
   "cell_type": "markdown",
   "id": "36885181",
   "metadata": {},
   "source": [
    "This Notebook will cover Task 1-Data Collection. This specific API holds various football data. I will be focusing on the matchday data from each game playerd during the 2020-2021 season (last year) from each league above."
   ]
  },
  {
   "cell_type": "markdown",
   "id": "1b15912c",
   "metadata": {},
   "source": [
    "This particular assignment will execute 4 different data pull requests for each league I will be analysing."
   ]
  },
  {
   "cell_type": "code",
   "execution_count": 1,
   "id": "3be2a2e7",
   "metadata": {},
   "outputs": [],
   "source": [
    "import json, requests, urllib\n",
    "from pathlib import Path\n",
    "from datetime import datetime\n",
    "import os.path\n",
    "import pandas as pd\n",
    "import matplotlib\n",
    "import matplotlib.pyplot as plt\n",
    "%matplotlib inline"
   ]
  },
  {
   "cell_type": "markdown",
   "id": "dd3cadb3",
   "metadata": {},
   "source": [
    "Below are the various settings needed fin order to run data collection on this API."
   ]
  },
  {
   "cell_type": "code",
   "execution_count": 2,
   "id": "c53a7233",
   "metadata": {},
   "outputs": [],
   "source": [
    "#API Key for football-data API\n",
    "api_key=\"7295646a94da4be6b111fb853c980a40\"\n",
    "#Api address\n",
    "api_address=\"http://api.football-data.org/v2\"\n",
    "#Nation associated with each league \n",
    "league_nationality=[\"England\",\"France\",\"Italy\",\"Spain\"]\n",
    "#The code names for the leagues which will be used to tell the API which leagues data we want to extract from\n",
    "league_codes=[\"PL\",\"FL1\",\"SA\",\"PD\"]"
   ]
  },
  {
   "cell_type": "markdown",
   "id": "97707529",
   "metadata": {},
   "source": [
    "Creating a directory to store the raw json files"
   ]
  },
  {
   "cell_type": "code",
   "execution_count": 3,
   "id": "231e496e",
   "metadata": {},
   "outputs": [],
   "source": [
    "dir_raw = Path(\"raw_data_for_Assignment1\")\n",
    "#If it already exists then we do not need to execute this\n",
    "dir_raw.mkdir(parents=True, exist_ok=True)"
   ]
  },
  {
   "cell_type": "markdown",
   "id": "b4bb0ceb",
   "metadata": {},
   "source": [
    "# Data Collection"
   ]
  },
  {
   "cell_type": "markdown",
   "id": "9a843226",
   "metadata": {},
   "source": [
    "Even though we are only retrieving the data on 4 occasions it is still good practice to define a function for this. The function will take in the code names for the leagues we want to find the data from:"
   ]
  },
  {
   "cell_type": "code",
   "execution_count": 4,
   "id": "88180c5c",
   "metadata": {},
   "outputs": [],
   "source": [
    "def fetch_data(league_code):\n",
    "    #The end of the base_url string below representsall the matches from the 2020 season, which we are interested in\n",
    "    url=api_address+\"/competitions/\"+league_code+\"/matches?season=2020\"\n",
    "    #header needed for authenticating the API key which is unique to each user\n",
    "    headers= {\"X-Auth-Token\":api_key, \"Accept-Encoding\":\"\"}\n",
    "    #fetching the page where the data is stroed\n",
    "    response = requests.get(url,headers=headers)\n",
    "    print(\"Fetching data for \"+league_code+\"...\")\n",
    "    #the filter \"matches\"is used here to get the specific data relating to the matches\"\n",
    "    json_data=response.json()[\"matches\"]\n",
    "    return json_data\n"
   ]
  },
  {
   "cell_type": "markdown",
   "id": "d9792c51",
   "metadata": {},
   "source": [
    "Defining a function(exists) to make sure the file path is empty:"
   ]
  },
  {
   "cell_type": "code",
   "execution_count": 5,
   "id": "645cb498",
   "metadata": {},
   "outputs": [],
   "source": [
    "def exists(path):\n",
    "    check_file=Path(path)\n",
    "    #if statement checks if file path is free (.is_file() is part of the pathlib library)\n",
    "    if check_file.is_file():\n",
    "        return True\n",
    "    else:\n",
    "        return False"
   ]
  },
  {
   "cell_type": "markdown",
   "id": "ee2cc6c5",
   "metadata": {},
   "source": [
    "Defining a function(dump_data) to save the data to the directory we created above. "
   ]
  },
  {
   "cell_type": "code",
   "execution_count": 6,
   "id": "8cd529a7",
   "metadata": {},
   "outputs": [],
   "source": [
    "def dump_data(league_name):\n",
    "    data=fetch_data(league_name)\n",
    "    #checking that the fetch_data function is a valid request\n",
    "    if data != None:\n",
    "        file_name=\"%s.json\"%(league_name)\n",
    "        out_path=dir_raw/file_name\n",
    "        #checks if file path is free\n",
    "        if exists(out_path):\n",
    "            print(\"file path already exists, overwriting data\")\n",
    "            print(\"Successfully saved data for %s league\" % league_name)\n",
    "        else:\n",
    "            print(\"Writing data to %s\" % out_path+\"...\")\n",
    "            #saving data in specified directory\n",
    "            fout=open(out_path, \"w\")\n",
    "            json.dump(data, fout, indent=4, sort_keys=True)\n",
    "            fout.close()\n",
    "            print(\"Successfully saved data for %s league\" % league_name)\n",
    "    else:\n",
    "        print(\"incorrect url address call!\")"
   ]
  },
  {
   "cell_type": "markdown",
   "id": "5c43fa75",
   "metadata": {},
   "source": [
    "We call this dump_data function within the for loop in order to fetch and save the data for our various leagues. Each data pull contains around 380 matches which should be a sufficient dataset."
   ]
  },
  {
   "cell_type": "code",
   "execution_count": 7,
   "id": "a318c74b",
   "metadata": {},
   "outputs": [
    {
     "name": "stdout",
     "output_type": "stream",
     "text": [
      "Fetching data for PL...\n",
      "Writing data to raw_data_for_Assignment1\\PL.json...\n",
      "Successfully saved data for PL league\n",
      "Fetching data for FL1...\n",
      "Writing data to raw_data_for_Assignment1\\FL1.json...\n",
      "Successfully saved data for FL1 league\n",
      "Fetching data for SA...\n",
      "Writing data to raw_data_for_Assignment1\\SA.json...\n",
      "Successfully saved data for SA league\n",
      "Fetching data for PD...\n",
      "Writing data to raw_data_for_Assignment1\\PD.json...\n",
      "Successfully saved data for PD league\n"
     ]
    }
   ],
   "source": [
    "for league in league_codes:\n",
    "    dump_data(league)"
   ]
  },
  {
   "cell_type": "code",
   "execution_count": null,
   "id": "61f6ae42",
   "metadata": {},
   "outputs": [],
   "source": []
  }
 ],
 "metadata": {
  "kernelspec": {
   "display_name": "Python 3",
   "language": "python",
   "name": "python3"
  },
  "language_info": {
   "codemirror_mode": {
    "name": "ipython",
    "version": 3
   },
   "file_extension": ".py",
   "mimetype": "text/x-python",
   "name": "python",
   "nbconvert_exporter": "python",
   "pygments_lexer": "ipython3",
   "version": "3.8.8"
  }
 },
 "nbformat": 4,
 "nbformat_minor": 5
}
